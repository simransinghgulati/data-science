{
 "cells": [
  {
   "cell_type": "markdown",
   "metadata": {},
   "source": [
    "# Overview of Python in Data Science"
   ]
  },
  {
   "cell_type": "markdown",
   "metadata": {},
   "source": [
    "Documentation : https://docs.python.org/3/"
   ]
  },
  {
   "cell_type": "markdown",
   "metadata": {},
   "source": [
    "## 1. Data Structures"
   ]
  },
  {
   "cell_type": "markdown",
   "metadata": {},
   "source": [
    "Similar to Strings, Python also supports below said (built-in) data structures: \n",
    " \n",
    " 1. List\n",
    " 2. Tuple\n",
    " 3. Dictionary\n",
    " 4. Set\n"
   ]
  },
  {
   "cell_type": "markdown",
   "metadata": {},
   "source": [
    "### 1.1 List\n",
    "\n",
    "\n",
    "Lists are similar to arrays and can be iterated via index values, starting from 0.\n",
    "\n",
    "Its elements are enclosed within sqaure brackets, separated by commas and can be of any data-type.\n",
    "\n",
    "These elements can be removed, added or changed through a number of functions.\n",
    "   "
   ]
  },
  {
   "cell_type": "code",
   "execution_count": 1,
   "metadata": {},
   "outputs": [
    {
     "name": "stdout",
     "output_type": "stream",
     "text": [
      "\n",
      "1 \t <class 'int'>\n",
      "1.5 \t <class 'float'>\n",
      "simran \t <class 'str'>\n",
      "True \t <class 'bool'>\n",
      "None \t <class 'NoneType'>\n",
      "[1, 2] \t <class 'list'>\n",
      "('a', 'b') \t <class 'tuple'>\n"
     ]
    }
   ],
   "source": [
    "li = [1, 1.5, \"simran\", True, print(), [1,2], (\"a\",\"b\")]\n",
    "for i in li:\n",
    "    print(i, \"\\t\",type(i))"
   ]
  },
  {
   "cell_type": "code",
   "execution_count": 2,
   "metadata": {},
   "outputs": [
    {
     "name": "stdout",
     "output_type": "stream",
     "text": [
      "[1, 'simran', None]\n"
     ]
    }
   ],
   "source": [
    "print(li[0:-2:2])   #slicing in Lists : start, stop, jump"
   ]
  },
  {
   "cell_type": "code",
   "execution_count": 3,
   "metadata": {},
   "outputs": [
    {
     "name": "stdout",
     "output_type": "stream",
     "text": [
      "[1, 1.5, 'simran', True, None, [1, 2], ('a', 'b'), 'oops!']\n",
      "[1, 1.5, 'simran', True, None, [1, 2], ('a', 'b')]\n",
      "[1, 1.5, 'simran', True, 'i replaced print', [1, 2], ('a', 'b')]\n"
     ]
    }
   ],
   "source": [
    "li.append(\"oops!\") #adding new element at the end\n",
    "print(li)\n",
    "li.pop() #removing last element\n",
    "print(li)\n",
    "li[4]=\"i replaced print\" #update element at an index\n",
    "print(li)"
   ]
  },
  {
   "cell_type": "code",
   "execution_count": 4,
   "metadata": {},
   "outputs": [
    {
     "name": "stdin",
     "output_type": "stream",
     "text": [
      " 1 3 6 2 4 9 6 7 666\n"
     ]
    },
    {
     "name": "stdout",
     "output_type": "stream",
     "text": [
      "1 \t <class 'int'>\n",
      "3 \t <class 'int'>\n",
      "6 \t <class 'int'>\n",
      "2 \t <class 'int'>\n",
      "4 \t <class 'int'>\n",
      "9 \t <class 'int'>\n",
      "6 \t <class 'int'>\n",
      "7 \t <class 'int'>\n",
      "666 \t <class 'int'>\n"
     ]
    }
   ],
   "source": [
    "new_li = [int(x) for x in input().split()] #comprehension : to input list elements as integers\n",
    "for i in new_li:\n",
    "    print(i, \"\\t\",type(i))"
   ]
  },
  {
   "cell_type": "markdown",
   "metadata": {},
   "source": [
    "\n",
    "### 1.2 Tuple\n",
    "A tuple is an **immutable list**, implying its elements can be iterated but not modified.\n",
    "\n",
    "Unlike lists, tuples are declared within round brackets. \n",
    "\n",
    "But like lists, it can store heterogeneous elements."
   ]
  },
  {
   "cell_type": "code",
   "execution_count": 5,
   "metadata": {},
   "outputs": [
    {
     "name": "stdout",
     "output_type": "stream",
     "text": [
      "1 \t <class 'int'>\n",
      "1.5 \t <class 'float'>\n",
      "simran \t <class 'str'>\n",
      "False \t <class 'bool'>\n",
      "9 \t <class 'int'>\n",
      "[1, 2] \t <class 'list'>\n",
      "('a', 'b') \t <class 'tuple'>\n"
     ]
    }
   ],
   "source": [
    "tu = (1,1.5,\"simran\",False,len(\"hey there\"),[1,2],(\"a\",\"b\"))\n",
    "for i in tu:\n",
    "    print(i,\"\\t\",type(i))"
   ]
  },
  {
   "cell_type": "markdown",
   "metadata": {},
   "source": [
    "### 1.3 Dictionary\n",
    "It marks the key-value pairs.\n",
    "\n",
    "Individual elements can be accessed via keys but not through index values.\n",
    "\n",
    "Thus the values can be modified by specifying the key."
   ]
  },
  {
   "cell_type": "markdown",
   "metadata": {},
   "source": [
    "A dictionary is declared within curly brackets with a colon between the key & its associated value. And each key-value pair is separated via commas. Again, the values can be heterogeneous but its keys can not."
   ]
  },
  {
   "cell_type": "code",
   "execution_count": 6,
   "metadata": {},
   "outputs": [
    {
     "name": "stdout",
     "output_type": "stream",
     "text": [
      "dict_keys(['name', 'age', 'marks', 'some list'])\n",
      "dict_values(['simran', 22, {'eng': 95, 'maths': 81}, [1, 2, 3]])\n",
      "dict_items([('name', 'simran'), ('age', 22), ('marks', {'eng': 95, 'maths': 81}), ('some list', [1, 2, 3])])\n",
      "{'name': 'simran singh', 'age': 22, 'marks': {'eng': 95, 'maths': 81}, 'some list': [1, 2, 3]}\n",
      "{'name': 'simran singh', 'age': 22, 'marks': {'eng': 95, 'maths': 91}, 'some list': [1, 2, 3]}\n"
     ]
    }
   ],
   "source": [
    "d = {\n",
    "    \"name\" : \"simran\",\n",
    "    \"age\" : 22,\n",
    "    \"marks\" : {\n",
    "        \"eng\" : 95,\n",
    "        \"maths\" : 81,\n",
    "    },\n",
    "    \"some list\" : [1,2,3]\n",
    "}\n",
    "\n",
    "print(d.keys())\n",
    "print(d.values())\n",
    "print(d.items())\n",
    "\n",
    "d['name']=\"simran singh\" #assigning new value to a key\n",
    "print(d)\n",
    "d['marks']['maths']=91 #altering the value of a nested dict\n",
    "print(d)"
   ]
  },
  {
   "cell_type": "markdown",
   "metadata": {},
   "source": [
    "### 1.4 Set\n",
    "\n",
    "A set stores only the unique elements and the elements can not be accessed by specifying the index values.\n",
    "\n",
    "The elements are sorted and can be added or removed. And can be of any data-type.\n",
    "\n",
    "It is usually used for union or intersection problems."
   ]
  },
  {
   "cell_type": "markdown",
   "metadata": {},
   "source": [
    "It can not store set/list/tuple as elements like in case of lists or tuples."
   ]
  },
  {
   "cell_type": "code",
   "execution_count": 7,
   "metadata": {},
   "outputs": [
    {
     "name": "stdout",
     "output_type": "stream",
     "text": [
      "\n",
      "{1, 2.5, 3, 4, 5, None, 'simran'}\n"
     ]
    }
   ],
   "source": [
    "s = {1,2.5,\"simran\",print(),3,4,5}\n",
    "print(s)"
   ]
  },
  {
   "cell_type": "code",
   "execution_count": 8,
   "metadata": {},
   "outputs": [
    {
     "name": "stdout",
     "output_type": "stream",
     "text": [
      "{2.5, 3, 4, 5, None, 'simran'}\n",
      "{3, 4, 5, None, 'simran'}\n",
      "{4, 5, None, 'simran'}\n"
     ]
    }
   ],
   "source": [
    "s.pop()  #removes a RANDOM element\n",
    "print(s)\n",
    "s.pop() \n",
    "print(s)\n",
    "s.pop() \n",
    "print(s)"
   ]
  },
  {
   "cell_type": "code",
   "execution_count": 9,
   "metadata": {},
   "outputs": [
    {
     "name": "stdout",
     "output_type": "stream",
     "text": [
      "{1, 2, 3, 4, 5}\n",
      "{2, 3, 4}\n",
      "True\n",
      "True\n"
     ]
    }
   ],
   "source": [
    "s1 = {1,2,3,4,5}\n",
    "s2 = {2,3,4}\n",
    "print(s1.union(s2))\n",
    "print(s1.intersection(s2))\n",
    "print(s2.issubset(s1))\n",
    "print(s1.issuperset(s2))"
   ]
  },
  {
   "cell_type": "markdown",
   "metadata": {},
   "source": [
    "### 1.5 Use Cases"
   ]
  },
  {
   "cell_type": "code",
   "execution_count": 10,
   "metadata": {},
   "outputs": [
    {
     "name": "stdout",
     "output_type": "stream",
     "text": [
      "{'h': 2, 'e': 3, 'y': 1, ' ': 2, 't': 1, 'r': 1, ',': 1, 'w': 1, 'a': 1, 's': 2, 'u': 1, 'p': 1, '?': 1}\n"
     ]
    }
   ],
   "source": [
    "#to calculate character frequency in a given string\n",
    "my_string = \"hey there, wassup?\"\n",
    "freq = dict()\n",
    "#creating a dictionary to keep count of each character in string\n",
    "for char in my_string:\n",
    "    if char in freq:\n",
    "        freq[char] = freq[char] + 1 \n",
    "        #we can modify the values by specifying the key  --> dict[key] = new value\n",
    "    else:\n",
    "        freq[char] = 1\n",
    "        \n",
    "print(freq)"
   ]
  },
  {
   "cell_type": "code",
   "execution_count": 11,
   "metadata": {},
   "outputs": [
    {
     "name": "stdout",
     "output_type": "stream",
     "text": [
      "[[1, 9], [3, 7], [9, 1]]\n"
     ]
    }
   ],
   "source": [
    "#finding pairs of elements in a given list that add up to 10\n",
    "some_list = [1,8,9,3,7,1]\n",
    "target = 10\n",
    "\n",
    "visited= set()\n",
    "#to keep check of elements visited already\n",
    "result = list()\n",
    "#the list that would return combo pairs\n",
    "\n",
    "for first_num in some_list:\n",
    "    required_num = 10 - first_num\n",
    "    \n",
    "    if required_num in visited : \n",
    "        result.append([required_num, first_num]) \n",
    "        #append takes single argument, so pushing each pair as a list\n",
    "        \n",
    "    visited.add(first_num)\n",
    "\n",
    "print(result)"
   ]
  },
  {
   "cell_type": "code",
   "execution_count": 12,
   "metadata": {},
   "outputs": [
    {
     "name": "stdout",
     "output_type": "stream",
     "text": [
      "['name', 'age']\n"
     ]
    }
   ],
   "source": [
    "# we can typecast a dictionary into a list but not otherwise\n",
    "list_new = list({\n",
    "    \"name\" : \"simran\",\n",
    "    \"age\" : 22\n",
    "})\n",
    "print(list_new)"
   ]
  },
  {
   "cell_type": "code",
   "execution_count": 13,
   "metadata": {},
   "outputs": [
    {
     "name": "stdout",
     "output_type": "stream",
     "text": [
      "[('swift', 'silver', 5), ('polo', 'blue', 7), ('innova', 'white', 12)]\n"
     ]
    }
   ],
   "source": [
    "# to typecast into a dictionary, we need to zip the individual lists \n",
    "car = [\"swift\",\"polo\",\"innova\"]\n",
    "color = [\"silver\",\"blue\",\"white\"]\n",
    "price = [5,7,12]\n",
    "\n",
    "a_zipped_list = list(zip(car,color,price))\n",
    "print(a_zipped_list)"
   ]
  },
  {
   "cell_type": "code",
   "execution_count": 14,
   "metadata": {},
   "outputs": [
    {
     "name": "stdout",
     "output_type": "stream",
     "text": [
      "{'swift': 'silver', 'polo': 'blue', 'innova': 'white'}\n"
     ]
    }
   ],
   "source": [
    "# for dictionaries we need to pass only 2 parameters in the zip function i.e keys and the values\n",
    "vehicle = dict(zip(car,color))\n",
    "print(vehicle)"
   ]
  },
  {
   "cell_type": "markdown",
   "metadata": {},
   "source": [
    "## 2. Functions\n",
    "\n",
    "With an objective to reduce repetition, function is piece of code that can be called (utilised) at multiple points within in the same program.\n",
    "\n",
    "Syntax for creating user defined functions:\n",
    "\n",
    "    def my_func():\n",
    "        pass\n",
    "        \n",
    "Just like in any other programming language, we may pass a variety of parameters but the general sequence is - \n",
    "\n",
    "1. Positional Arguments, Named Arguments\n",
    "2. Variable Arguments, Keyword(ed) Arguments\n",
    "\n",
    "Default parameters must be declared after args.\n",
    "\n",
    "    def my_func(var_a, *args ,var_b = \"100\"):\n",
    "        pass\n",
    "\n",
    "Parameters vs Arguments - While *defining* a function we declare parameters and on *calling* the function we pass arguments.\n"
   ]
  },
  {
   "cell_type": "code",
   "execution_count": 15,
   "metadata": {},
   "outputs": [],
   "source": [
    "def my_func(var_a,var_b,var_c):\n",
    "    print(var_a,var_b,var_c,sep=\"\\n\")"
   ]
  },
  {
   "cell_type": "code",
   "execution_count": 16,
   "metadata": {},
   "outputs": [
    {
     "name": "stdout",
     "output_type": "stream",
     "text": [
      "I am A\n",
      "I am B\n",
      "I am C\n"
     ]
    }
   ],
   "source": [
    "my_func(\"I am A\", var_c = \"I am C\", var_b=\"I am B\")"
   ]
  },
  {
   "cell_type": "code",
   "execution_count": 17,
   "metadata": {},
   "outputs": [],
   "source": [
    "def my_func2(var_d,*args):\n",
    "    print(var_d,)\n",
    "    print(*args)"
   ]
  },
  {
   "cell_type": "code",
   "execution_count": 18,
   "metadata": {},
   "outputs": [
    {
     "name": "stdout",
     "output_type": "stream",
     "text": [
      "10\n",
      "20 30.6 hello\n"
     ]
    }
   ],
   "source": [
    "my_func2(10,20,30.6,\"hello\")"
   ]
  },
  {
   "cell_type": "code",
   "execution_count": 19,
   "metadata": {},
   "outputs": [],
   "source": [
    "def last_func(a,b,c,*args,d=\"I am D\"):\n",
    "    print(a,b,c,*args,d,sep = \"\\n\")"
   ]
  },
  {
   "cell_type": "code",
   "execution_count": 20,
   "metadata": {},
   "outputs": [
    {
     "name": "stdout",
     "output_type": "stream",
     "text": [
      "I am A\n",
      "I am B\n",
      "I am C\n",
      "I am *args1\n",
      "I am *args2\n",
      "I am new D\n"
     ]
    }
   ],
   "source": [
    "last_func(\"I am A\",\"I am B\",\"I am C\",\"I am *args1\",\"I am *args2\",d=\"I am new D\")"
   ]
  },
  {
   "cell_type": "markdown",
   "metadata": {},
   "source": [
    "### 3. Classes and Objects"
   ]
  },
  {
   "cell_type": "markdown",
   "metadata": {},
   "source": [
    "Similar to *functions*, classes are fundamentals of Object Oriented Programming that promote *code re-usability*.\n",
    "\n",
    "A class may be defined as a collection of similar objects, say a Car class, encompasess objects like Swift, Polo and Innova. And provides a general template for its objects, for ex -  every object posseses certain number of attributes like seats, wheels etc.\n",
    "\n",
    "    class Car():\n",
    "        pass\n",
    "\n",
    "These objects within a class, hold some state and behaviour. For ex - a car's color and age can be mapped to its state and the behvaiour may include functions like start engine or turn on the AC.\n",
    "\n",
    "    swift=Car()"
   ]
  },
  {
   "cell_type": "code",
   "execution_count": 21,
   "metadata": {},
   "outputs": [],
   "source": [
    "class Human():\n",
    "    \n",
    "    population=0\n",
    "    \n",
    "    def __init__(self, name, money=0):\n",
    "        self.name=name\n",
    "        self.money=money\n",
    "        Human.population+=1\n",
    "        \n",
    "    def party(self):\n",
    "        if(self.money>300):\n",
    "            self.money-=300\n",
    "        else:\n",
    "            print(\"broke!\")\n",
    "            \n",
    "    def borrow(self,friend,amount):\n",
    "        if(friend.money>amount):\n",
    "            friend.money-=amount\n",
    "            self.money+=amount\n",
    "            \n",
    "    def __confidential(self):                  #encapsultion\n",
    "        print(\"This is confidential.\")\n",
    "        \n",
    "    def super_power(self):\n",
    "        self.__confidential()\n",
    "    \n",
    "    @classmethod                               #singleton\n",
    "    def thanos(cls):\n",
    "        Human.population//=2"
   ]
  },
  {
   "cell_type": "code",
   "execution_count": 22,
   "metadata": {},
   "outputs": [],
   "source": [
    "simran=Human(\"Simran Singh\",200)\n",
    "someone=Human(\"Mr. Someone\",1000)"
   ]
  },
  {
   "cell_type": "code",
   "execution_count": 23,
   "metadata": {},
   "outputs": [
    {
     "name": "stdout",
     "output_type": "stream",
     "text": [
      "broke!\n"
     ]
    }
   ],
   "source": [
    "simran.party()"
   ]
  },
  {
   "cell_type": "code",
   "execution_count": 24,
   "metadata": {},
   "outputs": [
    {
     "data": {
      "text/plain": [
       "550"
      ]
     },
     "execution_count": 24,
     "metadata": {},
     "output_type": "execute_result"
    }
   ],
   "source": [
    "simran.borrow(someone,650)\n",
    "simran.party()\n",
    "simran.money"
   ]
  },
  {
   "cell_type": "code",
   "execution_count": 25,
   "metadata": {},
   "outputs": [
    {
     "data": {
      "text/plain": [
       "50"
      ]
     },
     "execution_count": 25,
     "metadata": {},
     "output_type": "execute_result"
    }
   ],
   "source": [
    "someone.party()\n",
    "someone.money"
   ]
  },
  {
   "cell_type": "code",
   "execution_count": 26,
   "metadata": {},
   "outputs": [
    {
     "name": "stdout",
     "output_type": "stream",
     "text": [
      "This is confidential.\n"
     ]
    }
   ],
   "source": [
    "simran.super_power()"
   ]
  },
  {
   "cell_type": "code",
   "execution_count": 27,
   "metadata": {},
   "outputs": [],
   "source": [
    "p1 = Human(\"Person 1\")\n",
    "p2 = Human(\"Person 2\")\n",
    "p3 = Human(\"Person 3\")\n",
    "p4 = Human(\"Person 4\")"
   ]
  },
  {
   "cell_type": "code",
   "execution_count": 28,
   "metadata": {},
   "outputs": [
    {
     "data": {
      "text/plain": [
       "6"
      ]
     },
     "execution_count": 28,
     "metadata": {},
     "output_type": "execute_result"
    }
   ],
   "source": [
    "Human.population"
   ]
  },
  {
   "cell_type": "code",
   "execution_count": 29,
   "metadata": {},
   "outputs": [
    {
     "data": {
      "text/plain": [
       "3"
      ]
     },
     "execution_count": 29,
     "metadata": {},
     "output_type": "execute_result"
    }
   ],
   "source": [
    "Human.thanos()\n",
    "Human.population"
   ]
  },
  {
   "cell_type": "code",
   "execution_count": 30,
   "metadata": {},
   "outputs": [
    {
     "name": "stdout",
     "output_type": "stream",
     "text": [
      "You are too young to party\n"
     ]
    }
   ],
   "source": [
    "# inheritance\n",
    "class Child(Human):\n",
    "    \n",
    "    # overriding\n",
    "    def party(self):\n",
    "        print(\"You are too young to party\")\n",
    "\n",
    "kid = Child(\"Mr. Kid\")\n",
    "kid.party()"
   ]
  },
  {
   "cell_type": "code",
   "execution_count": 31,
   "metadata": {},
   "outputs": [
    {
     "data": {
      "text/plain": [
       "4"
      ]
     },
     "execution_count": 31,
     "metadata": {},
     "output_type": "execute_result"
    }
   ],
   "source": [
    "Human.population"
   ]
  },
  {
   "cell_type": "markdown",
   "metadata": {},
   "source": [
    "### 4. File Handling"
   ]
  },
  {
   "cell_type": "markdown",
   "metadata": {},
   "source": [
    "Before performing read/write operations on a file, we use open() function to return a file object wherein we pass two arguments, the filename and the mode.\n",
    "\n",
    "The modes available are:\n",
    "1. r : read\n",
    "2. w : write\n",
    "3. a : append\n",
    "\n",
    "If the mode isn't specified, Python accepts it in the read mode by default.\n",
    "\n",
    "In certain cases, we need to explicilty declare the type along with the mode : say **wt** for write-text and **wb** for write-binary. \n",
    "\n",
    "By default the type is set to  text but in scenarios like pictures or similar files, we need to specify the binary part.\n",
    "\n",
    "**r+** allows both read and write operations but r+ can be used only for existing files.\n",
    "\n",
    "**w+** apart from writing on to the file, allows to create a file if it  is not present already.\n",
    "\n",
    "While *write* overwrites anything stored within the file, *append* allows to add content at the end of the file.\n",
    "\n",
    "Post write/append operation we need to call flush() to push away all the data in the stream on to the file. Also, when call we close() it automatically flushes the stream-data.\n",
    "\n",
    "    f = file.open(\"file_name.txt\",\"w\")\n",
    "    f.write(\"This will be written to file\")\n",
    "    f.close()\n",
    "    \n",
    "A simpler syntax, which automatically closes the file is : \n",
    "    \n",
    "    with open(\"file_name\", \"mode\") as variable:\n",
    "    variable.function()"
   ]
  },
  {
   "cell_type": "code",
   "execution_count": 32,
   "metadata": {},
   "outputs": [],
   "source": [
    "with open('sample.txt','w+') as f:\n",
    "    f.write(\"Hey there!\")"
   ]
  },
  {
   "cell_type": "code",
   "execution_count": 33,
   "metadata": {},
   "outputs": [
    {
     "name": "stdout",
     "output_type": "stream",
     "text": [
      "Hey there!\n"
     ]
    }
   ],
   "source": [
    "with open('sample.txt') as f:\n",
    "    print(f.read())"
   ]
  },
  {
   "cell_type": "code",
   "execution_count": 34,
   "metadata": {},
   "outputs": [],
   "source": [
    "with open('sample.txt',\"a\") as f:\n",
    "    f.write(\"\\nWassup\")"
   ]
  },
  {
   "cell_type": "code",
   "execution_count": 35,
   "metadata": {},
   "outputs": [
    {
     "name": "stdout",
     "output_type": "stream",
     "text": [
      "Hey there!\n",
      "Wassup\n"
     ]
    }
   ],
   "source": [
    "with open('sample.txt') as f:\n",
    "    print(f.read())"
   ]
  },
  {
   "cell_type": "code",
   "execution_count": null,
   "metadata": {},
   "outputs": [],
   "source": []
  }
 ],
 "metadata": {
  "gist": {
   "data": {
    "description": "data-structures.ipynb",
    "public": false
   },
   "id": ""
  },
  "kernelspec": {
   "display_name": "Python 3",
   "language": "python",
   "name": "python3"
  },
  "language_info": {
   "codemirror_mode": {
    "name": "ipython",
    "version": 3
   },
   "file_extension": ".py",
   "mimetype": "text/x-python",
   "name": "python",
   "nbconvert_exporter": "python",
   "pygments_lexer": "ipython3",
   "version": "3.7.4"
  },
  "varInspector": {
   "cols": {
    "lenName": 16,
    "lenType": 16,
    "lenVar": 40
   },
   "kernels_config": {
    "python": {
     "delete_cmd_postfix": "",
     "delete_cmd_prefix": "del ",
     "library": "var_list.py",
     "varRefreshCmd": "print(var_dic_list())"
    },
    "r": {
     "delete_cmd_postfix": ") ",
     "delete_cmd_prefix": "rm(",
     "library": "var_list.r",
     "varRefreshCmd": "cat(var_dic_list()) "
    }
   },
   "position": {
    "height": "564px",
    "left": "1365.6666259765625px",
    "right": "20px",
    "top": "118px",
    "width": "479.6666564941406px"
   },
   "types_to_exclude": [
    "module",
    "function",
    "builtin_function_or_method",
    "instance",
    "_Feature"
   ],
   "window_display": false
  }
 },
 "nbformat": 4,
 "nbformat_minor": 4
}
